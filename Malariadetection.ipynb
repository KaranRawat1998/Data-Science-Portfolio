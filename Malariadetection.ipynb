{
  "nbformat": 4,
  "nbformat_minor": 0,
  "metadata": {
    "colab": {
      "name": "Malariadetection.ipynb",
      "provenance": [],
      "collapsed_sections": [],
      "mount_file_id": "1eaC2KOz3a0dIB228BSz3NlNYbRz2E-kL",
      "authorship_tag": "ABX9TyNszbceRAFM+H0sRSA0QPNj",
      "include_colab_link": true
    },
    "kernelspec": {
      "name": "python3",
      "display_name": "Python 3"
    },
    "accelerator": "GPU"
  },
  "cells": [
    {
      "cell_type": "markdown",
      "metadata": {
        "id": "view-in-github",
        "colab_type": "text"
      },
      "source": [
        "<a href=\"https://colab.research.google.com/github/KaranRawat1998/Data-Science-Portfolio/blob/master/Malariadetection.ipynb\" target=\"_parent\"><img src=\"https://colab.research.google.com/assets/colab-badge.svg\" alt=\"Open In Colab\"/></a>"
      ]
    },
    {
      "cell_type": "code",
      "metadata": {
        "colab": {
          "base_uri": "https://localhost:8080/"
        },
        "id": "mnseDDLrtd8O",
        "outputId": "a3176aaf-0348-44b3-b15c-a3f45a7e3b42"
      },
      "source": [
        "from google.colab import drive\r\n",
        "drive.mount('/content/drive/')"
      ],
      "execution_count": 2,
      "outputs": [
        {
          "output_type": "stream",
          "text": [
            "Drive already mounted at /content/drive/; to attempt to forcibly remount, call drive.mount(\"/content/drive/\", force_remount=True).\n"
          ],
          "name": "stdout"
        }
      ]
    },
    {
      "cell_type": "code",
      "metadata": {
        "id": "xNic7l-ymNmw"
      },
      "source": [
        "# import the libraries as shown below\r\n",
        "\r\n",
        "from tensorflow.keras.layers import Input, Lambda, Dense, Flatten,Conv2D\r\n",
        "from tensorflow.keras.models import Model\r\n",
        "from tensorflow.keras.applications.vgg19 import VGG19\r\n",
        "from tensorflow.keras.applications.resnet50 import preprocess_input\r\n",
        "from tensorflow.keras.preprocessing import image\r\n",
        "from tensorflow.keras.preprocessing.image import ImageDataGenerator,load_img\r\n",
        "from tensorflow.keras.models import Sequential\r\n",
        "import numpy as np\r\n",
        "from glob import glob\r\n",
        "import matplotlib.pyplot as plt"
      ],
      "execution_count": 3,
      "outputs": []
    },
    {
      "cell_type": "code",
      "metadata": {
        "id": "xErRrK0-mfF9"
      },
      "source": [
        "# re-size all the images to this\r\n",
        "IMAGE_SIZE = [224, 224]\r\n",
        "\r\n",
        "train_path = '/content/drive/MyDrive/Colab Notebooks/Dataset/cell_images/Train'\r\n",
        "valid_path = '/content/drive/MyDrive/Colab Notebooks/Dataset/cell_images/Test'"
      ],
      "execution_count": 4,
      "outputs": []
    },
    {
      "cell_type": "code",
      "metadata": {
        "id": "5ki-901Tmhrd",
        "colab": {
          "base_uri": "https://localhost:8080/"
        },
        "outputId": "d7ac2215-548a-4b19-9a4d-cb0dea68ddba"
      },
      "source": [
        "# Import the Vgg 16 library as shown below and add preprocessing layer to the front of VGG\r\n",
        "# Here we will be using imagenet weights\r\n",
        "\r\n",
        "vgg19 = VGG19(input_shape=IMAGE_SIZE + [3], weights='imagenet', include_top=False)\r\n"
      ],
      "execution_count": 5,
      "outputs": [
        {
          "output_type": "stream",
          "text": [
            "Downloading data from https://storage.googleapis.com/tensorflow/keras-applications/vgg19/vgg19_weights_tf_dim_ordering_tf_kernels_notop.h5\n",
            "80142336/80134624 [==============================] - 1s 0us/step\n"
          ],
          "name": "stdout"
        }
      ]
    },
    {
      "cell_type": "code",
      "metadata": {
        "id": "ZgSAb6Y4w-yy"
      },
      "source": [
        "# don't train existing weights\r\n",
        "for layer in vgg19.layers:\r\n",
        "    layer.trainable = False"
      ],
      "execution_count": 6,
      "outputs": []
    },
    {
      "cell_type": "code",
      "metadata": {
        "id": "n__Sg7N-mlTG"
      },
      "source": [
        "  # useful for getting number of output classes\r\n",
        "folders = glob('/content/drive/MyDrive/Colab Notebooks/Dataset/cell_images/Train/*')"
      ],
      "execution_count": 7,
      "outputs": []
    },
    {
      "cell_type": "code",
      "metadata": {
        "colab": {
          "base_uri": "https://localhost:8080/"
        },
        "id": "_-l7_vVXmn0r",
        "outputId": "f6862a93-2253-4185-bb1a-7efa9c49d536"
      },
      "source": [
        "folders"
      ],
      "execution_count": 8,
      "outputs": [
        {
          "output_type": "execute_result",
          "data": {
            "text/plain": [
              "['/content/drive/MyDrive/Colab Notebooks/Dataset/cell_images/Train/Uninfected',\n",
              " '/content/drive/MyDrive/Colab Notebooks/Dataset/cell_images/Train/Parasitized']"
            ]
          },
          "metadata": {
            "tags": []
          },
          "execution_count": 8
        }
      ]
    },
    {
      "cell_type": "code",
      "metadata": {
        "id": "dluA1sGdmqId"
      },
      "source": [
        "# our layers - you can add more if you want\r\n",
        "x = Flatten()(vgg19.output)"
      ],
      "execution_count": 9,
      "outputs": []
    },
    {
      "cell_type": "code",
      "metadata": {
        "id": "fcBuZuoGzFO1"
      },
      "source": [
        "prediction = Dense(len(folders), activation='softmax')(x)\r\n",
        "\r\n",
        "# create a model object\r\n",
        "model = Model(inputs=vgg19.input, outputs=prediction)"
      ],
      "execution_count": 10,
      "outputs": []
    },
    {
      "cell_type": "code",
      "metadata": {
        "colab": {
          "base_uri": "https://localhost:8080/"
        },
        "id": "K4N9VxVlzIPh",
        "outputId": "11681371-a147-4f16-babc-c4c36b687284"
      },
      "source": [
        "# view the structure of the model\r\n",
        "model.summary()\r\n"
      ],
      "execution_count": 11,
      "outputs": [
        {
          "output_type": "stream",
          "text": [
            "Model: \"model\"\n",
            "_________________________________________________________________\n",
            "Layer (type)                 Output Shape              Param #   \n",
            "=================================================================\n",
            "input_1 (InputLayer)         [(None, 224, 224, 3)]     0         \n",
            "_________________________________________________________________\n",
            "block1_conv1 (Conv2D)        (None, 224, 224, 64)      1792      \n",
            "_________________________________________________________________\n",
            "block1_conv2 (Conv2D)        (None, 224, 224, 64)      36928     \n",
            "_________________________________________________________________\n",
            "block1_pool (MaxPooling2D)   (None, 112, 112, 64)      0         \n",
            "_________________________________________________________________\n",
            "block2_conv1 (Conv2D)        (None, 112, 112, 128)     73856     \n",
            "_________________________________________________________________\n",
            "block2_conv2 (Conv2D)        (None, 112, 112, 128)     147584    \n",
            "_________________________________________________________________\n",
            "block2_pool (MaxPooling2D)   (None, 56, 56, 128)       0         \n",
            "_________________________________________________________________\n",
            "block3_conv1 (Conv2D)        (None, 56, 56, 256)       295168    \n",
            "_________________________________________________________________\n",
            "block3_conv2 (Conv2D)        (None, 56, 56, 256)       590080    \n",
            "_________________________________________________________________\n",
            "block3_conv3 (Conv2D)        (None, 56, 56, 256)       590080    \n",
            "_________________________________________________________________\n",
            "block3_conv4 (Conv2D)        (None, 56, 56, 256)       590080    \n",
            "_________________________________________________________________\n",
            "block3_pool (MaxPooling2D)   (None, 28, 28, 256)       0         \n",
            "_________________________________________________________________\n",
            "block4_conv1 (Conv2D)        (None, 28, 28, 512)       1180160   \n",
            "_________________________________________________________________\n",
            "block4_conv2 (Conv2D)        (None, 28, 28, 512)       2359808   \n",
            "_________________________________________________________________\n",
            "block4_conv3 (Conv2D)        (None, 28, 28, 512)       2359808   \n",
            "_________________________________________________________________\n",
            "block4_conv4 (Conv2D)        (None, 28, 28, 512)       2359808   \n",
            "_________________________________________________________________\n",
            "block4_pool (MaxPooling2D)   (None, 14, 14, 512)       0         \n",
            "_________________________________________________________________\n",
            "block5_conv1 (Conv2D)        (None, 14, 14, 512)       2359808   \n",
            "_________________________________________________________________\n",
            "block5_conv2 (Conv2D)        (None, 14, 14, 512)       2359808   \n",
            "_________________________________________________________________\n",
            "block5_conv3 (Conv2D)        (None, 14, 14, 512)       2359808   \n",
            "_________________________________________________________________\n",
            "block5_conv4 (Conv2D)        (None, 14, 14, 512)       2359808   \n",
            "_________________________________________________________________\n",
            "block5_pool (MaxPooling2D)   (None, 7, 7, 512)         0         \n",
            "_________________________________________________________________\n",
            "flatten (Flatten)            (None, 25088)             0         \n",
            "_________________________________________________________________\n",
            "dense (Dense)                (None, 2)                 50178     \n",
            "=================================================================\n",
            "Total params: 20,074,562\n",
            "Trainable params: 50,178\n",
            "Non-trainable params: 20,024,384\n",
            "_________________________________________________________________\n"
          ],
          "name": "stdout"
        }
      ]
    },
    {
      "cell_type": "code",
      "metadata": {
        "id": "G8OMy8IxzKyo"
      },
      "source": [
        "# tell the model what cost and optimization method to use\r\n",
        "model.compile(\r\n",
        "  loss='categorical_crossentropy',\r\n",
        "  optimizer='adam',\r\n",
        "  metrics=['accuracy']\r\n",
        ")\r\n"
      ],
      "execution_count": 12,
      "outputs": []
    },
    {
      "cell_type": "code",
      "metadata": {
        "id": "42mDm9etz1tX"
      },
      "source": [
        "# Use the Image Data Generator to import the images from the dataset\r\n",
        "from tensorflow.keras.preprocessing.image import ImageDataGenerator\r\n",
        "\r\n",
        "train_datagen = ImageDataGenerator(rescale = 1./255,\r\n",
        "                                   shear_range = 0.2,\r\n",
        "                                   zoom_range = 0.2,\r\n",
        "                                   horizontal_flip = True)\r\n",
        "\r\n",
        "test_datagen = ImageDataGenerator(rescale = 1./255)"
      ],
      "execution_count": 13,
      "outputs": []
    },
    {
      "cell_type": "code",
      "metadata": {
        "colab": {
          "base_uri": "https://localhost:8080/"
        },
        "id": "OEhfHjJ80FJG",
        "outputId": "afd9283d-b139-4c89-b2c2-e26bca17a014"
      },
      "source": [
        "# Make sure you provide the same target size as initialied for the image size\r\n",
        "training_set = train_datagen.flow_from_directory('/content/drive/MyDrive/Colab Notebooks/Dataset/cell_images/Train',\r\n",
        "                                                 target_size = (224, 224),\r\n",
        "                                                 batch_size = 32,\r\n",
        "                                                 class_mode = 'categorical')"
      ],
      "execution_count": 14,
      "outputs": [
        {
          "output_type": "stream",
          "text": [
            "Found 6389 images belonging to 2 classes.\n"
          ],
          "name": "stdout"
        }
      ]
    },
    {
      "cell_type": "code",
      "metadata": {
        "colab": {
          "base_uri": "https://localhost:8080/"
        },
        "id": "L3IXymBD0QYE",
        "outputId": "2b751521-842b-4bf3-ccf0-c800b1cd58c7"
      },
      "source": [
        "test_set = test_datagen.flow_from_directory('/content/drive/MyDrive/Colab Notebooks/Dataset/cell_images/Test',\r\n",
        "                                            target_size = (224, 224),\r\n",
        "                                            batch_size = 32,\r\n",
        "                                            class_mode = 'categorical')"
      ],
      "execution_count": 15,
      "outputs": [
        {
          "output_type": "stream",
          "text": [
            "Found 134 images belonging to 2 classes.\n"
          ],
          "name": "stdout"
        }
      ]
    },
    {
      "cell_type": "code",
      "metadata": {
        "colab": {
          "base_uri": "https://localhost:8080/"
        },
        "id": "cWb2qtcI0ZHD",
        "outputId": "a19a8ab5-48b0-4164-af31-a49f108906eb"
      },
      "source": [
        "# fit the model\r\n",
        "# Run the cell. It will take some time to execute\r\n",
        "r = model.fit_generator(\r\n",
        "  training_set,\r\n",
        "  validation_data=test_set,\r\n",
        "  epochs=5,\r\n",
        "  steps_per_epoch=len(training_set),\r\n",
        "  validation_steps=len(test_set)\r\n",
        ")"
      ],
      "execution_count": 16,
      "outputs": [
        {
          "output_type": "stream",
          "text": [
            "/usr/local/lib/python3.6/dist-packages/tensorflow/python/keras/engine/training.py:1844: UserWarning: `Model.fit_generator` is deprecated and will be removed in a future version. Please use `Model.fit`, which supports generators.\n",
            "  warnings.warn('`Model.fit_generator` is deprecated and '\n"
          ],
          "name": "stderr"
        },
        {
          "output_type": "stream",
          "text": [
            "Epoch 1/5\n",
            "200/200 [==============================] - 3997s 20s/step - loss: 0.7722 - accuracy: 0.6764 - val_loss: 0.3391 - val_accuracy: 0.8358\n",
            "Epoch 2/5\n",
            "200/200 [==============================] - 81s 404ms/step - loss: 0.3595 - accuracy: 0.8373 - val_loss: 0.2930 - val_accuracy: 0.8582\n",
            "Epoch 3/5\n",
            "200/200 [==============================] - 81s 404ms/step - loss: 0.3358 - accuracy: 0.8554 - val_loss: 0.3476 - val_accuracy: 0.8657\n",
            "Epoch 4/5\n",
            "200/200 [==============================] - 81s 404ms/step - loss: 0.3052 - accuracy: 0.8783 - val_loss: 0.2227 - val_accuracy: 0.9104\n",
            "Epoch 5/5\n",
            "200/200 [==============================] - 81s 403ms/step - loss: 0.3105 - accuracy: 0.8800 - val_loss: 0.8296 - val_accuracy: 0.6716\n"
          ],
          "name": "stdout"
        }
      ]
    },
    {
      "cell_type": "code",
      "metadata": {
        "colab": {
          "base_uri": "https://localhost:8080/",
          "height": 530
        },
        "id": "eTz-zCH-0c2b",
        "outputId": "c69bb978-48b5-4439-fd3e-92ba8934a606"
      },
      "source": [
        "# plot the loss\r\n",
        "plt.plot(r.history['loss'], label='train loss')\r\n",
        "plt.plot(r.history['val_loss'], label='val loss')\r\n",
        "plt.legend()\r\n",
        "plt.show()\r\n",
        "plt.savefig('LossVal_loss')\r\n",
        "\r\n",
        "# plot the accuracy\r\n",
        "plt.plot(r.history['accuracy'], label='train acc')\r\n",
        "plt.plot(r.history['val_accuracy'], label='val acc')\r\n",
        "plt.legend()\r\n",
        "plt.show()\r\n",
        "plt.savefig('AccVal_acc')"
      ],
      "execution_count": 17,
      "outputs": [
        {
          "output_type": "display_data",
          "data": {
            "image/png": "[encoded data removed]",
            "text/plain": [
              "<Figure size 432x288 with 1 Axes>"
            ]
          },
          "metadata": {
            "tags": [],
            "needs_background": "light"
          }
        },
        {
          "output_type": "display_data",
          "data": {
            "image/png": "[encoded data removed]",
            "text/plain": [
              "<Figure size 432x288 with 1 Axes>"
            ]
          },
          "metadata": {
            "tags": [],
            "needs_background": "light"
          }
        },
        {
          "output_type": "display_data",
          "data": {
            "text/plain": [
              "<Figure size 432x288 with 0 Axes>"
            ]
          },
          "metadata": {
            "tags": []
          }
        }
      ]
    },
    {
      "cell_type": "code",
      "metadata": {
        "id": "O2bw71kc19QS"
      },
      "source": [
        "# save it as a h5 file\r\n",
        "\r\n",
        "\r\n",
        "from tensorflow.keras.models import load_model\r\n",
        "\r\n",
        "model.save('model3_vgg19.h5')"
      ],
      "execution_count": 18,
      "outputs": []
    },
    {
      "cell_type": "code",
      "metadata": {
        "id": "ZVK1jY8JFeDd"
      },
      "source": [
        "y_pred = model.predict(test_set)"
      ],
      "execution_count": 19,
      "outputs": []
    },
    {
      "cell_type": "code",
      "metadata": {
        "colab": {
          "base_uri": "https://localhost:8080/"
        },
        "id": "GujYIOTCFw6s",
        "outputId": "efa9de3f-604f-4cef-8b0c-db7f0a976a96"
      },
      "source": [
        "y_pred"
      ],
      "execution_count": 20,
      "outputs": [
        {
          "output_type": "execute_result",
          "data": {
            "text/plain": [
              "array([[9.78669763e-01, 2.13302094e-02],\n",
              "       [2.52521299e-02, 9.74747837e-01],\n",
              "       [1.60619069e-03, 9.98393834e-01],\n",
              "       [4.75713789e-01, 5.24286211e-01],\n",
              "       [9.82225407e-04, 9.99017715e-01],\n",
              "       [3.01364111e-03, 9.96986330e-01],\n",
              "       [5.70749760e-01, 4.29250300e-01],\n",
              "       [2.76981038e-03, 9.97230232e-01],\n",
              "       [1.85385509e-03, 9.98146176e-01],\n",
              "       [1.34560536e-03, 9.98654366e-01],\n",
              "       [9.98272061e-01, 1.72796531e-03],\n",
              "       [8.82847160e-02, 9.11715209e-01],\n",
              "       [3.62828523e-01, 6.37171507e-01],\n",
              "       [5.55329444e-03, 9.94446635e-01],\n",
              "       [5.77031791e-01, 4.22968179e-01],\n",
              "       [9.35179938e-04, 9.99064863e-01],\n",
              "       [1.03605703e-01, 8.96394372e-01],\n",
              "       [4.23431676e-03, 9.95765686e-01],\n",
              "       [4.35276842e-03, 9.95647252e-01],\n",
              "       [2.66495626e-03, 9.97335017e-01],\n",
              "       [8.01508967e-03, 9.91984904e-01],\n",
              "       [3.57013121e-02, 9.64298725e-01],\n",
              "       [4.51666385e-01, 5.48333585e-01],\n",
              "       [9.57968712e-01, 4.20312583e-02],\n",
              "       [1.23065904e-01, 8.76934111e-01],\n",
              "       [7.45206140e-04, 9.99254763e-01],\n",
              "       [9.27953273e-02, 9.07204688e-01],\n",
              "       [8.04607931e-04, 9.99195397e-01],\n",
              "       [2.49520456e-03, 9.97504771e-01],\n",
              "       [4.64401860e-03, 9.95355964e-01],\n",
              "       [2.21460715e-01, 7.78539240e-01],\n",
              "       [2.60174274e-02, 9.73982573e-01],\n",
              "       [5.76603934e-02, 9.42339599e-01],\n",
              "       [9.82590854e-01, 1.74091496e-02],\n",
              "       [1.55539528e-01, 8.44460428e-01],\n",
              "       [8.67904544e-01, 1.32095471e-01],\n",
              "       [5.21555124e-03, 9.94784415e-01],\n",
              "       [9.96744275e-01, 3.25569906e-03],\n",
              "       [6.32974645e-03, 9.93670225e-01],\n",
              "       [9.98714685e-01, 1.28537533e-03],\n",
              "       [6.39964594e-04, 9.99360025e-01],\n",
              "       [7.15498030e-02, 9.28450227e-01],\n",
              "       [3.50581437e-01, 6.49418533e-01],\n",
              "       [5.16161323e-04, 9.99483824e-01],\n",
              "       [1.00331632e-02, 9.89966869e-01],\n",
              "       [9.99011517e-01, 9.88471089e-04],\n",
              "       [7.65494257e-02, 9.23450530e-01],\n",
              "       [8.29312485e-04, 9.99170661e-01],\n",
              "       [9.67537582e-01, 3.24623659e-02],\n",
              "       [2.95762415e-03, 9.97042358e-01],\n",
              "       [2.47939676e-01, 7.52060354e-01],\n",
              "       [1.00000000e+00, 2.18651355e-08],\n",
              "       [9.98101890e-01, 1.89814647e-03],\n",
              "       [7.67910242e-01, 2.32089758e-01],\n",
              "       [9.79588151e-01, 2.04118211e-02],\n",
              "       [1.98706193e-03, 9.98012900e-01],\n",
              "       [5.74005162e-03, 9.94259953e-01],\n",
              "       [9.94784892e-01, 5.21510653e-03],\n",
              "       [8.00896287e-02, 9.19910431e-01],\n",
              "       [9.87789273e-01, 1.22106681e-02],\n",
              "       [3.63155425e-01, 6.36844575e-01],\n",
              "       [6.30677044e-02, 9.36932325e-01],\n",
              "       [5.00066340e-01, 4.99933630e-01],\n",
              "       [3.00695747e-01, 6.99304283e-01],\n",
              "       [1.80467054e-01, 8.19532931e-01],\n",
              "       [2.38086283e-03, 9.97619092e-01],\n",
              "       [1.20705401e-03, 9.98792887e-01],\n",
              "       [9.87793863e-01, 1.22061083e-02],\n",
              "       [2.01821281e-03, 9.97981787e-01],\n",
              "       [9.99998331e-01, 1.72329328e-06],\n",
              "       [1.88171281e-03, 9.98118281e-01],\n",
              "       [9.99927402e-01, 7.25339269e-05],\n",
              "       [6.90424025e-01, 3.09576005e-01],\n",
              "       [1.83628649e-02, 9.81637180e-01],\n",
              "       [9.99943733e-01, 5.62777896e-05],\n",
              "       [1.54992950e-03, 9.98450041e-01],\n",
              "       [1.17304064e-01, 8.82695913e-01],\n",
              "       [9.68279958e-01, 3.17201205e-02],\n",
              "       [5.28142333e-01, 4.71857727e-01],\n",
              "       [9.99881268e-01, 1.18775293e-04],\n",
              "       [8.72089565e-01, 1.27910376e-01],\n",
              "       [8.34617019e-01, 1.65382937e-01],\n",
              "       [3.13580744e-02, 9.68641996e-01],\n",
              "       [7.54476618e-03, 9.92455244e-01],\n",
              "       [2.81951159e-01, 7.18048811e-01],\n",
              "       [4.93882477e-01, 5.06117523e-01],\n",
              "       [2.44874135e-03, 9.97551262e-01],\n",
              "       [2.21937686e-01, 7.78062284e-01],\n",
              "       [2.03231126e-02, 9.79676902e-01],\n",
              "       [3.67953777e-01, 6.32046163e-01],\n",
              "       [9.81378078e-01, 1.86219495e-02],\n",
              "       [1.67538911e-01, 8.32461059e-01],\n",
              "       [7.55788267e-01, 2.44211763e-01],\n",
              "       [9.03771698e-01, 9.62282866e-02],\n",
              "       [8.63528967e-01, 1.36471033e-01],\n",
              "       [1.32990003e-01, 8.67009997e-01],\n",
              "       [2.19293963e-03, 9.97807086e-01],\n",
              "       [1.25386128e-02, 9.87461388e-01],\n",
              "       [8.78761292e-01, 1.21238716e-01],\n",
              "       [1.72424950e-02, 9.82757509e-01],\n",
              "       [9.82216239e-01, 1.77837722e-02],\n",
              "       [9.97934461e-01, 2.06551817e-03],\n",
              "       [3.29937553e-03, 9.96700585e-01],\n",
              "       [1.10012218e-01, 8.89987767e-01],\n",
              "       [2.18554903e-02, 9.78144467e-01],\n",
              "       [2.44932786e-01, 7.55067229e-01],\n",
              "       [1.48848654e-03, 9.98511493e-01],\n",
              "       [9.99212742e-01, 7.87217636e-04],\n",
              "       [9.13114846e-01, 8.68851766e-02],\n",
              "       [5.63827097e-01, 4.36172873e-01],\n",
              "       [1.98662341e-01, 8.01337659e-01],\n",
              "       [9.69888449e-01, 3.01115587e-02],\n",
              "       [1.16002588e-02, 9.88399744e-01],\n",
              "       [2.43957490e-01, 7.56042540e-01],\n",
              "       [1.96147874e-01, 8.03852141e-01],\n",
              "       [3.00648599e-03, 9.96993542e-01],\n",
              "       [9.90891993e-01, 9.10805352e-03],\n",
              "       [2.59035709e-03, 9.97409642e-01],\n",
              "       [9.81717110e-01, 1.82829015e-02],\n",
              "       [5.09438217e-01, 4.90561843e-01],\n",
              "       [1.67679938e-03, 9.98323143e-01],\n",
              "       [9.44858551e-01, 5.51414825e-02],\n",
              "       [9.51024413e-01, 4.89756130e-02],\n",
              "       [2.51160145e-01, 7.48839915e-01],\n",
              "       [2.76581366e-02, 9.72341835e-01],\n",
              "       [2.28026859e-03, 9.97719705e-01],\n",
              "       [9.47608203e-02, 9.05239165e-01],\n",
              "       [6.04730010e-01, 3.95269960e-01],\n",
              "       [1.22250626e-02, 9.87774968e-01],\n",
              "       [7.39672314e-03, 9.92603242e-01],\n",
              "       [9.99271929e-01, 7.28019106e-04],\n",
              "       [1.21914111e-02, 9.87808585e-01],\n",
              "       [9.98290837e-01, 1.70914491e-03],\n",
              "       [5.09966118e-03, 9.94900405e-01]], dtype=float32)"
            ]
          },
          "metadata": {
            "tags": []
          },
          "execution_count": 20
        }
      ]
    },
    {
      "cell_type": "code",
      "metadata": {
        "id": "K7wyoEHaFy1z"
      },
      "source": [
        "import numpy as np\r\n",
        "y_pred = np.argmax(y_pred, axis=1)"
      ],
      "execution_count": 21,
      "outputs": []
    },
    {
      "cell_type": "code",
      "metadata": {
        "colab": {
          "base_uri": "https://localhost:8080/"
        },
        "id": "cmuUB763F5MR",
        "outputId": "901ed3c1-238a-43ce-a8aa-d4d78f2722e0"
      },
      "source": [
        "y_pred"
      ],
      "execution_count": 34,
      "outputs": [
        {
          "output_type": "execute_result",
          "data": {
            "text/plain": [
              "array([0, 1, 1, 1, 1, 1, 0, 1, 1, 1, 0, 1, 1, 1, 0, 1, 1, 1, 1, 1, 1, 1,\n",
              "       1, 0, 1, 1, 1, 1, 1, 1, 1, 1, 1, 0, 1, 0, 1, 0, 1, 0, 1, 1, 1, 1,\n",
              "       1, 0, 1, 1, 0, 1, 1, 0, 0, 0, 0, 1, 1, 0, 1, 0, 1, 1, 0, 1, 1, 1,\n",
              "       1, 0, 1, 0, 1, 0, 0, 1, 0, 1, 1, 0, 0, 0, 0, 0, 1, 1, 1, 1, 1, 1,\n",
              "       1, 1, 0, 1, 0, 0, 0, 1, 1, 1, 0, 1, 0, 0, 1, 1, 1, 1, 1, 0, 0, 0,\n",
              "       1, 0, 1, 1, 1, 1, 0, 1, 0, 0, 1, 0, 0, 1, 1, 1, 1, 0, 1, 1, 0, 1,\n",
              "       0, 1])"
            ]
          },
          "metadata": {
            "tags": []
          },
          "execution_count": 34
        }
      ]
    },
    {
      "cell_type": "code",
      "metadata": {
        "id": "WTeex4DgF7KB"
      },
      "source": [
        "from tensorflow.keras.models import load_model\r\n",
        "from tensorflow.keras.preprocessing import image"
      ],
      "execution_count": 35,
      "outputs": []
    },
    {
      "cell_type": "code",
      "metadata": {
        "id": "ZlOEXj-WGICI"
      },
      "source": [
        "model=load_model('model3_vgg19.h5')"
      ],
      "execution_count": 36,
      "outputs": []
    },
    {
      "cell_type": "code",
      "metadata": {
        "id": "5Z3o0fcwGJsT"
      },
      "source": [
        "img=image.load_img('/content/drive/MyDrive/Colab Notebooks/Dataset/cell_images/Test/Uninfected/C3thin_original_IMG_20150608_162922_cell_205.png',target_size=(224,224))\r\n"
      ],
      "execution_count": 53,
      "outputs": []
    },
    {
      "cell_type": "code",
      "metadata": {
        "colab": {
          "base_uri": "https://localhost:8080/"
        },
        "id": "hb58PvSYGLmk",
        "outputId": "a890f565-d742-48c7-b505-0b70287c8c33"
      },
      "source": [
        "x=image.img_to_array(img)\r\n",
        "x"
      ],
      "execution_count": 54,
      "outputs": [
        {
          "output_type": "execute_result",
          "data": {
            "text/plain": [
              "array([[[0., 0., 0.],\n",
              "        [0., 0., 0.],\n",
              "        [0., 0., 0.],\n",
              "        ...,\n",
              "        [0., 0., 0.],\n",
              "        [0., 0., 0.],\n",
              "        [0., 0., 0.]],\n",
              "\n",
              "       [[0., 0., 0.],\n",
              "        [0., 0., 0.],\n",
              "        [0., 0., 0.],\n",
              "        ...,\n",
              "        [0., 0., 0.],\n",
              "        [0., 0., 0.],\n",
              "        [0., 0., 0.]],\n",
              "\n",
              "       [[0., 0., 0.],\n",
              "        [0., 0., 0.],\n",
              "        [0., 0., 0.],\n",
              "        ...,\n",
              "        [0., 0., 0.],\n",
              "        [0., 0., 0.],\n",
              "        [0., 0., 0.]],\n",
              "\n",
              "       ...,\n",
              "\n",
              "       [[0., 0., 0.],\n",
              "        [0., 0., 0.],\n",
              "        [0., 0., 0.],\n",
              "        ...,\n",
              "        [0., 0., 0.],\n",
              "        [0., 0., 0.],\n",
              "        [0., 0., 0.]],\n",
              "\n",
              "       [[0., 0., 0.],\n",
              "        [0., 0., 0.],\n",
              "        [0., 0., 0.],\n",
              "        ...,\n",
              "        [0., 0., 0.],\n",
              "        [0., 0., 0.],\n",
              "        [0., 0., 0.]],\n",
              "\n",
              "       [[0., 0., 0.],\n",
              "        [0., 0., 0.],\n",
              "        [0., 0., 0.],\n",
              "        ...,\n",
              "        [0., 0., 0.],\n",
              "        [0., 0., 0.],\n",
              "        [0., 0., 0.]]], dtype=float32)"
            ]
          },
          "metadata": {
            "tags": []
          },
          "execution_count": 54
        }
      ]
    },
    {
      "cell_type": "code",
      "metadata": {
        "colab": {
          "base_uri": "https://localhost:8080/"
        },
        "id": "nbgd-zaxGkLI",
        "outputId": "21628580-5d9f-4a6c-99d8-4dda58376808"
      },
      "source": [
        "x.shape"
      ],
      "execution_count": 55,
      "outputs": [
        {
          "output_type": "execute_result",
          "data": {
            "text/plain": [
              "(224, 224, 3)"
            ]
          },
          "metadata": {
            "tags": []
          },
          "execution_count": 55
        }
      ]
    },
    {
      "cell_type": "code",
      "metadata": {
        "id": "0wNwQsq5GnZT"
      },
      "source": [
        "x=x/255"
      ],
      "execution_count": 56,
      "outputs": []
    },
    {
      "cell_type": "code",
      "metadata": {
        "colab": {
          "base_uri": "https://localhost:8080/"
        },
        "id": "bEKcqzhdGpGc",
        "outputId": "556bc95a-4e85-42fd-eb87-40779f8d0674"
      },
      "source": [
        "x=np.expand_dims(x,axis=0)\r\n",
        "img_data=preprocess_input(x)\r\n",
        "img_data.shape"
      ],
      "execution_count": 57,
      "outputs": [
        {
          "output_type": "execute_result",
          "data": {
            "text/plain": [
              "(1, 224, 224, 3)"
            ]
          },
          "metadata": {
            "tags": []
          },
          "execution_count": 57
        }
      ]
    },
    {
      "cell_type": "code",
      "metadata": {
        "colab": {
          "base_uri": "https://localhost:8080/"
        },
        "id": "-794zA4hGq2t",
        "outputId": "0c5f6a29-27b7-4bae-c8d3-95542b183e68"
      },
      "source": [
        "model.predict(img_data)"
      ],
      "execution_count": 58,
      "outputs": [
        {
          "output_type": "execute_result",
          "data": {
            "text/plain": [
              "array([[8.934208e-12, 1.000000e+00]], dtype=float32)"
            ]
          },
          "metadata": {
            "tags": []
          },
          "execution_count": 58
        }
      ]
    },
    {
      "cell_type": "code",
      "metadata": {
        "id": "lsJZydPBGs1D"
      },
      "source": [
        "a=np.argmax(model.predict(img_data), axis=1)"
      ],
      "execution_count": 59,
      "outputs": []
    },
    {
      "cell_type": "code",
      "metadata": {
        "colab": {
          "base_uri": "https://localhost:8080/"
        },
        "id": "qy5CQ9aBGut1",
        "outputId": "e3e415b1-e5a0-4984-cc0d-1d1a61ae22c9"
      },
      "source": [
        "if(a==1):\r\n",
        "    print(\"Uninfected\")\r\n",
        "else:\r\n",
        "    print(\"Infected\")"
      ],
      "execution_count": 60,
      "outputs": [
        {
          "output_type": "stream",
          "text": [
            "Uninfected\n"
          ],
          "name": "stdout"
        }
      ]
    },
    {
      "cell_type": "code",
      "metadata": {
        "id": "rM2CicnQGwiQ"
      },
      "source": [
        ""
      ],
      "execution_count": null,
      "outputs": []
    }
  ]
}